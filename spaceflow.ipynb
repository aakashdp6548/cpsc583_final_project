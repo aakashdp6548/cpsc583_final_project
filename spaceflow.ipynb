{
 "cells": [
  {
   "cell_type": "code",
   "execution_count": 82,
   "metadata": {},
   "outputs": [
    {
     "name": "stdout",
     "output_type": "stream",
     "text": [
      "The autoreload extension is already loaded. To reload it, use:\n",
      "  %reload_ext autoreload\n"
     ]
    }
   ],
   "source": [
    "%load_ext autoreload\n",
    "%autoreload 2"
   ]
  },
  {
   "cell_type": "code",
   "execution_count": 77,
   "metadata": {},
   "outputs": [],
   "source": [
    "import scanpy as sc\n",
    "import anndata\n",
    "from SpaceFlow import SpaceFlow\n",
    "import matplotlib.pyplot as plt\n",
    "import umap\n",
    "import seaborn as sns\n",
    "import numpy as np\n",
    "import pandas as pd\n",
    "from sklearn.model_selection import train_test_split\n",
    "from sklearn.linear_model import LogisticRegression\n",
    "from sklearn.metrics import accuracy_score, f1_score\n",
    "import torch\n",
    "\n",
    "from src.visualization import plot_embeddings"
   ]
  },
  {
   "cell_type": "code",
   "execution_count": 87,
   "metadata": {},
   "outputs": [],
   "source": [
    "DATASET = \"Breast Cancer\"\n",
    "\n",
    "if DATASET == \"Breast Cancer\":\n",
    "    ADATA_PATH = 'data/V1_Breast_Cancer_Block_A_Section_1/breast_cancer.h5ad'\n",
    "    GT_PATH = 'data/V1_Breast_Cancer_Block_A_Section_1/cpdb_scores/thresholded_interaction_matrix.tsv'\n",
    "elif DATASET == \"Lymph Node\":\n",
    "    ADATA_PATH = 'data/V1_Human_Lymph_Node/lymph_node.h5ad'\n",
    "    GT_PATH = 'data/V1_Human_Lymph_Node/cpdb_scores/thresholded_interaction_matrix.tsv'"
   ]
  },
  {
   "cell_type": "markdown",
   "metadata": {},
   "source": [
    "# Load data and get embeddings"
   ]
  },
  {
   "cell_type": "code",
   "execution_count": 88,
   "metadata": {},
   "outputs": [
    {
     "data": {
      "text/plain": [
       "AnnData object with n_obs × n_vars = 3001 × 22240\n",
       "    obs: 'in_tissue', 'array_row', 'array_col', 'n_genes', 'n_genes_by_counts', 'total_counts', 'total_counts_mt', 'pct_counts_mt', 'leiden'\n",
       "    var: 'gene_ids', 'feature_types', 'genome', 'n_cells', 'mt', 'n_cells_by_counts', 'mean_counts', 'pct_dropout_by_counts', 'total_counts', 'highly_variable', 'means', 'dispersions', 'dispersions_norm', 'mean', 'std'\n",
       "    uns: 'hvg', 'leiden', 'leiden_colors', 'log1p', 'neighbors', 'pca', 'spatial', 'umap'\n",
       "    obsm: 'X_pca', 'X_umap', 'spatial'\n",
       "    varm: 'PCs'\n",
       "    layers: 'log_norm'\n",
       "    obsp: 'connectivities', 'distances'"
      ]
     },
     "execution_count": 88,
     "metadata": {},
     "output_type": "execute_result"
    }
   ],
   "source": [
    "adata = anndata.read_h5ad(ADATA_PATH)\n",
    "cell_types = adata.obs[\"leiden\"].values.astype(int)\n",
    "adata.X = adata.raw.X\n",
    "adata"
   ]
  },
  {
   "cell_type": "code",
   "execution_count": 89,
   "metadata": {},
   "outputs": [],
   "source": [
    "# Load the ground truth data\n",
    "ground_truth = pd.read_csv(GT_PATH, sep='\\t', index_col=0).values.astype(int)"
   ]
  },
  {
   "cell_type": "code",
   "execution_count": 90,
   "metadata": {},
   "outputs": [
    {
     "name": "stdout",
     "output_type": "stream",
     "text": [
      "WARNING: adata.X seems to be already log-transformed.\n"
     ]
    }
   ],
   "source": [
    "sf = SpaceFlow.SpaceFlow(adata=adata)\n",
    "sf.preprocessing_data(n_top_genes=2000)"
   ]
  },
  {
   "cell_type": "code",
   "execution_count": 91,
   "metadata": {},
   "outputs": [
    {
     "name": "stdout",
     "output_type": "stream",
     "text": [
      "Training with seed 42\n",
      "Epoch 2/500, Loss: 1.4730812311172485\n",
      "Epoch 12/500, Loss: 1.4321227073669434\n",
      "Epoch 22/500, Loss: 1.3491175174713135\n",
      "Epoch 32/500, Loss: 1.1115518808364868\n",
      "Epoch 42/500, Loss: 0.7639027237892151\n",
      "Epoch 52/500, Loss: 0.4779401421546936\n",
      "Epoch 62/500, Loss: 0.25889357924461365\n",
      "Epoch 72/500, Loss: 0.16981270909309387\n",
      "Epoch 82/500, Loss: 0.12061193585395813\n",
      "Epoch 92/500, Loss: 0.09782376885414124\n",
      "Epoch 102/500, Loss: 0.07699981331825256\n",
      "Epoch 112/500, Loss: 0.06231538951396942\n",
      "Epoch 122/500, Loss: 0.06220690533518791\n",
      "Epoch 132/500, Loss: 0.0733335092663765\n",
      "Epoch 142/500, Loss: 0.05906536430120468\n",
      "Epoch 152/500, Loss: 0.06884428858757019\n",
      "Epoch 162/500, Loss: 0.0596904382109642\n",
      "Epoch 172/500, Loss: 0.06491965055465698\n",
      "Epoch 182/500, Loss: 0.047547124326229095\n",
      "Epoch 192/500, Loss: 0.04776524007320404\n",
      "Epoch 202/500, Loss: 0.04975150525569916\n",
      "Epoch 212/500, Loss: 0.04659229889512062\n",
      "Epoch 222/500, Loss: 0.047969382256269455\n",
      "Epoch 232/500, Loss: 0.05032311752438545\n",
      "Epoch 242/500, Loss: 0.042790643870830536\n",
      "Epoch 252/500, Loss: 0.04467920958995819\n",
      "Epoch 262/500, Loss: 0.04704795032739639\n",
      "Epoch 272/500, Loss: 0.043040789663791656\n",
      "Epoch 282/500, Loss: 0.04504456743597984\n",
      "Epoch 292/500, Loss: 0.06088070571422577\n",
      "Epoch 302/500, Loss: 0.045634932816028595\n",
      "Epoch 312/500, Loss: 3.862772226333618\n",
      "Epoch 322/500, Loss: 0.27810657024383545\n",
      "Training complete!\n",
      "Embedding is saved at ./embedding.tsv\n"
     ]
    }
   ],
   "source": [
    "sf_embeddings = []\n",
    "for seed in [42, 13, 21]:\n",
    "    print(f\"Training with seed {seed}\")\n",
    "    embedding = sf.train(\n",
    "        spatial_regularization_strength=0.1,\n",
    "        z_dim=64, \n",
    "        lr=1e-3, \n",
    "        epochs=500, \n",
    "        max_patience=50, \n",
    "        min_stop=100, \n",
    "        random_seed=seed,\n",
    "        gpu=0, \n",
    "        regularization_acceleration=True, \n",
    "        edge_subset_sz=1000000\n",
    "    )\n",
    "    sf_embeddings.append(embedding)"
   ]
  },
  {
   "cell_type": "code",
   "execution_count": 92,
   "metadata": {},
   "outputs": [
    {
     "data": {
      "text/plain": [
       "(3001, 64)"
      ]
     },
     "execution_count": 92,
     "metadata": {},
     "output_type": "execute_result"
    }
   ],
   "source": [
    "sf_embeddings[0].shape"
   ]
  },
  {
   "cell_type": "code",
   "execution_count": 93,
   "metadata": {},
   "outputs": [
    {
     "name": "stderr",
     "output_type": "stream",
     "text": [
      "/opt/anaconda3/envs/spaceflow/lib/python3.8/site-packages/umap/umap_.py:1952: UserWarning: n_jobs value 1 overridden to 1 by setting random_state. Use no seed for parallelism.\n",
      "  warn(\n"
     ]
    }
   ],
   "source": [
    "# Convert cell_types to one-hot tensor\n",
    "num_classes = len(np.unique(cell_types))\n",
    "cell_types_one_hot = np.eye(num_classes)[cell_types]\n",
    "\n",
    "plot_embeddings(torch.from_numpy(sf_embeddings[0]), torch.from_numpy(cell_types_one_hot), title=f\"SpaceFlow Embeddings ({DATASET})\", save_path=f\"plots/{DATASET}_spaceflow_embeddings.png\")"
   ]
  },
  {
   "cell_type": "markdown",
   "metadata": {},
   "source": [
    "## Predict interactions using embeddings"
   ]
  },
  {
   "cell_type": "code",
   "execution_count": 85,
   "metadata": {},
   "outputs": [
    {
     "name": "stdout",
     "output_type": "stream",
     "text": [
      "Run 0 | Test Accuracy: 0.7320 | Test F1 Score: 0.7428\n",
      "Run 1 | Test Accuracy: 0.7690 | Test F1 Score: 0.7755\n",
      "Run 2 | Test Accuracy: 0.7910 | Test F1 Score: 0.8059\n",
      "Average Accuracy: 0.7640 ± 0.0243\n",
      "Average F1 Score: 0.7748 ± 0.0258\n"
     ]
    }
   ],
   "source": [
    "num_samples = 11000\n",
    "\n",
    "accuracies = []\n",
    "f1_scores = []\n",
    "\n",
    "for run, embeddings in enumerate(sf_embeddings):\n",
    "    embedding_pairs = []\n",
    "    interaction_labels = []\n",
    "\n",
    "    indices = np.random.randint(0, embeddings.shape[0], (num_samples, 2))\n",
    "\n",
    "    embedding_pairs = []\n",
    "    interaction_labels = []\n",
    "\n",
    "    for idx in indices:\n",
    "        i, j = idx\n",
    "        cell_type_i = cell_types[i]\n",
    "        cell_type_j = cell_types[j]\n",
    "        interaction = ground_truth[cell_type_i, cell_type_j]\n",
    "        \n",
    "        concatenated_embedding = np.concatenate((embeddings[i], embeddings[j]))\n",
    "        \n",
    "        embedding_pairs.append(concatenated_embedding)\n",
    "        interaction_labels.append(interaction)\n",
    "\n",
    "    embedding_pairs = np.stack(embedding_pairs)\n",
    "    interaction_labels = np.array(interaction_labels)\n",
    "\n",
    "    # Create train/test split\n",
    "    train_pairs, test_pairs, train_labels, test_labels = train_test_split(\n",
    "        embedding_pairs, interaction_labels, test_size=(1./11), random_state=42\n",
    "    )\n",
    "\n",
    "    # Flatten the embeddings for logistic regression\n",
    "    train_pairs_flat = train_pairs.reshape(train_pairs.shape[0], -1)\n",
    "    test_pairs_flat = test_pairs.reshape(test_pairs.shape[0], -1)\n",
    "\n",
    "    # Initialize the logistic regression model\n",
    "    log_reg = LogisticRegression(max_iter=1000)\n",
    "\n",
    "    # Train the model\n",
    "    log_reg.fit(train_pairs_flat, train_labels)\n",
    "\n",
    "    # Predict on the test set\n",
    "    test_predictions = log_reg.predict(test_pairs_flat)\n",
    "\n",
    "    # Calculate accuracy\n",
    "    accuracy = accuracy_score(test_labels, test_predictions)\n",
    "    f1 = f1_score(test_labels, test_predictions)\n",
    "\n",
    "    print(f\"Run {run} | Test Accuracy: {accuracy:.4f} | Test F1 Score: {f1:.4f}\")\n",
    "\n",
    "    accuracies.append(accuracy)\n",
    "    f1_scores.append(f1)\n",
    "\n",
    "print(f\"Average Accuracy: {np.mean(accuracies):.4f} ± {np.std(accuracies):.4f}\")\n",
    "print(f\"Average F1 Score: {np.mean(f1_scores):.4f} ± {np.std(f1_scores):.4f}\")"
   ]
  }
 ],
 "metadata": {
  "kernelspec": {
   "display_name": "spaceflow",
   "language": "python",
   "name": "python3"
  },
  "language_info": {
   "codemirror_mode": {
    "name": "ipython",
    "version": 3
   },
   "file_extension": ".py",
   "mimetype": "text/x-python",
   "name": "python",
   "nbconvert_exporter": "python",
   "pygments_lexer": "ipython3",
   "version": "3.8.20"
  }
 },
 "nbformat": 4,
 "nbformat_minor": 2
}
